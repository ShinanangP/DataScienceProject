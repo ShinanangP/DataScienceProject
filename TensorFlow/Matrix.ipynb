<<<<<<< HEAD
=======

>>>>>>> 5d398f802d350b7e0e40c45a4cb439f3f4a7fc49
{
 "cells": [
  {
   "cell_type": "code",
   "execution_count": 14,
   "metadata": {},
   "outputs": [
    {
     "name": "stdout",
     "output_type": "stream",
     "text": [
      "2.17.0\n"
     ]
    }
   ],
   "source": [
    "# Import libearies\n",
    "import tensorflow as tf # !pip install tensorflow\n",
    "import numpy as np\n",
    "print(tf.__version__)"
   ]
  },
  {
   "cell_type": "code",
   "execution_count": 9,
   "metadata": {},
   "outputs": [
    {
     "name": "stdout",
     "output_type": "stream",
     "text": [
      "[[1 1 1]\n",
      " [1 1 1]\n",
      " [1 1 1]] \n",
      "\n",
      "[[2 2 2]\n",
      " [2 2 2]\n",
      " [2 2 2]]\n"
     ]
    }
   ],
   "source": [
    "# Create matrix using NumPy array\n",
    "matrix1 = np.array([(1, 1, 1), (1, 1, 1), (1, 1, 1)], dtype = 'int32')\n",
    "print(matrix1, \"\\n\")\n",
    "\n",
    "matrix2 = np.array([(2, 2, 2), (2, 2, 2), (2, 2, 2)], dtype = 'int32')\n",
    "print(matrix2)"
   ]
  },
  {
   "cell_type": "code",
   "execution_count": 10,
   "metadata": {},
   "outputs": [
    {
     "name": "stdout",
     "output_type": "stream",
     "text": [
      "tf.Tensor(\n",
      "[[1 1 1]\n",
      " [1 1 1]\n",
      " [1 1 1]], shape=(3, 3), dtype=int32) \n",
      "\n",
      "tf.Tensor(\n",
      "[[2 2 2]\n",
      " [2 2 2]\n",
      " [2 2 2]], shape=(3, 3), dtype=int32)\n"
     ]
    }
   ],
   "source": [
    "# Create tensors\n",
    "matrix1_tf = tf.constant(matrix1)\n",
    "print(matrix1_tf, \"\\n\")\n",
    "\n",
    "matrix2_tf = tf.constant(matrix2)\n",
    "print(matrix2_tf)"
   ]
  },
  {
   "cell_type": "code",
   "execution_count": 11,
   "metadata": {},
   "outputs": [
    {
     "name": "stdout",
     "output_type": "stream",
     "text": [
      "[[2. 7. 2.]\n",
      " [1. 4. 2.]\n",
      " [9. 0. 2.]] \n",
      "\n",
      "tf.Tensor(\n",
      "[[2. 7. 2.]\n",
      " [1. 4. 2.]\n",
      " [9. 0. 2.]], shape=(3, 3), dtype=float32)\n"
     ]
    }
   ],
   "source": [
    "# Create matrix using NumPy array\n",
    "matrix3 = np.array([(2, 7, 2), (1, 4, 2), (9, 0, 2)], dtype = 'float32')\n",
    "print(matrix3, \"\\n\")\n",
    "\n",
    "# Create tensors\n",
    "matrix3_tf = tf.constant(matrix3)\n",
    "print(matrix3_tf)"
   ]
  },
  {
   "cell_type": "code",
   "execution_count": 12,
   "metadata": {},
   "outputs": [
    {
     "name": "stdout",
     "output_type": "stream",
     "text": [
      "tf.Tensor(\n",
      "[[6 6 6]\n",
      " [6 6 6]\n",
      " [6 6 6]], shape=(3, 3), dtype=int32) \n",
      "\n",
      "tf.Tensor(\n",
      "[[3 3 3]\n",
      " [3 3 3]\n",
      " [3 3 3]], shape=(3, 3), dtype=int32) \n",
      "\n",
      "tf.Tensor(55.999992, shape=(), dtype=float32)\n"
     ]
    }
   ],
   "source": [
    "# Dot product / Matrix multiplication\n",
    "maxtrix_dot_product = tf.matmul(matrix1_tf, matrix2_tf)\n",
    "print(maxtrix_dot_product, \"\\n\")\n",
    "\n",
    "# Matrix addition\n",
    "matrix_sum = tf.add(matrix1_tf, matrix2_tf)\n",
    "print(matrix_sum, \"\\n\")\n",
    "\n",
    "# Determinant\n",
    "matrix_det = tf.linalg.det(matrix3_tf)\n",
    "print(matrix_det)"
   ]
  },
  {
   "cell_type": "code",
   "execution_count": 18,
   "metadata": {},
   "outputs": [
    {
     "name": "stdout",
     "output_type": "stream",
     "text": [
      "[[6 6 6]\n",
      " [6 6 6]\n",
      " [6 6 6]] \n",
      "\n",
      "[[3 3 3]\n",
      " [3 3 3]\n",
      " [3 3 3]] \n",
      "\n",
      "55.999992 \n",
      "\n"
     ]
    }
   ],
   "source": [
    "# TensorFlow 1.x style\n",
    "# with tf.Session() as session:\n",
    "#     result1 = session.run(maxtrix_dot_product)\n",
    "#     result2 = session.run(matrix_sum)\n",
    "#     result3 = session.run(matrix_det)\n",
    "\n",
    "# TensorFlow 2.x style\n",
    "# the concept of a Session is deprecated\n",
    "# uses eager execution by default (perations are evaluated immediately, without the need to explicitly create a Session)\n",
    "for result in [maxtrix_dot_product, matrix_sum, matrix_det]:\n",
    "    print(result.numpy(), \"\\n\") # To convert the tensor to NumPy array"
   ]
  },
  {
   "cell_type": "code",
   "execution_count": null,
   "metadata": {},
   "outputs": [],
   "source": []
  }
 ],
 "metadata": {
  "kernelspec": {
   "display_name": "new_env",
   "language": "python",
   "name": "python3"
  },
  "language_info": {
   "codemirror_mode": {
    "name": "ipython",
    "version": 3
   },
   "file_extension": ".py",
   "mimetype": "text/x-python",
   "name": "python",
   "nbconvert_exporter": "python",
   "pygments_lexer": "ipython3",
   "version": "3.12.4"
  }
 },
 "nbformat": 4,
 "nbformat_minor": 2
}
<<<<<<< HEAD
=======

>>>>>>> 5d398f802d350b7e0e40c45a4cb439f3f4a7fc49
