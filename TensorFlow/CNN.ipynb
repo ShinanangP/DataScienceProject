{
 "cells": [
  {
   "cell_type": "markdown",
   "metadata": {},
   "source": [
    "# Recap: TensorFlow"
   ]
  },
  {
   "cell_type": "code",
   "execution_count": 1,
   "metadata": {},
   "outputs": [
    {
     "name": "stdout",
     "output_type": "stream",
     "text": [
      "TensorFlow version: 2.17.0\n"
     ]
    }
   ],
   "source": [
    "# Import libearies\n",
    "import tensorflow as tf # !pip install tensorflow\n",
    "import numpy as np\n",
    "print(\"TensorFlow version:\", tf.__version__)"
   ]
  },
  {
   "cell_type": "code",
   "execution_count": 2,
   "metadata": {},
   "outputs": [
    {
     "name": "stdout",
     "output_type": "stream",
     "text": [
      "0-dimensional array: tf.Tensor(20, shape=(), dtype=int32)\n",
      "1-dimensional array: tf.Tensor([12 20 53 26 11 56], shape=(6,), dtype=int32)\n",
      "2-dimensional array: tf.Tensor(\n",
      "[[ 3  6  7  5]\n",
      " [ 9  2  3  4]\n",
      " [ 7  1 10  6]\n",
      " [ 0  8 11  2]], shape=(4, 4), dtype=int32)\n"
     ]
    }
   ],
   "source": [
    "# Zero dimensional tensor\n",
    "zero_dim_array = 20\n",
    "zero_dim_tensor = tf.constant(zero_dim_array)\n",
    "print(\"0-dimensional array:\", zero_dim_tensor)\n",
    "\n",
    "# One dimensional tensor\n",
    "one_dim_array = np.array([12, 20, 53, 26, 11, 56], dtype = 'int32')\n",
    "one_dim_tensor = tf.constant(one_dim_array)\n",
    "print(\"1-dimensional array:\", one_dim_tensor)\n",
    "\n",
    "# Two dimensional tensor\n",
    "two_dim_array = np.array([[3, 6, 7, 5], \n",
    "                          [9, 2, 3, 4],\n",
    "                          [7, 1, 10,6],\n",
    "                          [0, 8, 11,2]], dtype = 'int32')\n",
    "two_dim_tensor = tf.constant(two_dim_array)\n",
    "print(\"2-dimensional array:\", two_dim_tensor)"
   ]
  },
  {
   "cell_type": "markdown",
   "metadata": {},
   "source": [
    "# Convolutional Neural Network (CNN or ConvNet) \n",
    "- modified from https://www.datacamp.com/tutorial/cnn-tensorflow-python"
   ]
  },
  {
   "cell_type": "markdown",
   "metadata": {},
   "source": [
    "Components\n",
    "- Convolutional layers\n",
    "- Rectified Linear Unit (ReLU for short)\n",
    "- Pooling layers\n",
    "- Fully connected layers"
   ]
  },
  {
   "cell_type": "markdown",
   "metadata": {},
   "source": [
    "## Import libraries"
   ]
  },
  {
   "cell_type": "code",
   "execution_count": 45,
   "metadata": {},
   "outputs": [],
   "source": [
    "import os\n",
    "import random\n",
    "import numpy as np\n",
    "import pandas as pd\n",
    "\n",
    "import matplotlib.pyplot as plt\n",
    "import seaborn as sns"
   ]
  },
  {
   "cell_type": "code",
   "execution_count": 46,
   "metadata": {},
   "outputs": [
    {
     "name": "stdout",
     "output_type": "stream",
     "text": [
      "TensorFlow version: 2.17.0\n"
     ]
    }
   ],
   "source": [
    "import tensorflow as tf # !pip install tensorflow\n",
    "print(\"TensorFlow version:\", tf.__version__)\n",
    "\n",
    "from tensorflow.keras import Sequential\n",
    "from tensorflow.keras.layers import Conv2D, MaxPooling2D, Flatten, Dense, Input\n",
    "from tensorflow.keras.utils import to_categorical\n",
    "from tensorflow.keras.metrics import Precision, Recall\n",
    "\n",
    "from sklearn.metrics import confusion_matrix, ConfusionMatrixDisplay"
   ]
  },
  {
   "cell_type": "code",
   "execution_count": 4,
   "metadata": {},
   "outputs": [
    {
     "data": {
      "image/png": "[encoded data removed]",
      "text/plain": [
       "<Figure size 300x300 with 1 Axes>"
      ]
     },
     "metadata": {},
     "output_type": "display_data"
    }
   ],
   "source": [
    "# Grayscale Images (2D Array)\n",
    "# 0 is black, 255 is white, Values in between represent shades of gray.\n",
    "\n",
    "grayscale_image = np.array([[0, 50, 100, 150, 200],\n",
    "                            [25, 75, 125, 175, 225],\n",
    "                            [50, 100, 150, 200, 250],\n",
    "                            [75, 125, 175, 225, 255],\n",
    "                            [100, 150, 200, 250, 0]])\n",
    "\n",
    "plt.figure(figsize = (3, 3))\n",
    "plt.imshow(grayscale_image, cmap = plt.cm.binary)\n",
    "plt.title(grayscale_image.shape);"
   ]
  },
  {
   "cell_type": "code",
   "execution_count": 5,
   "metadata": {},
   "outputs": [
    {
     "data": {
      "image/png": "[encoded data removed]",
      "text/plain": [
       "<Figure size 300x300 with 1 Axes>"
      ]
     },
     "metadata": {},
     "output_type": "display_data"
    }
   ],
   "source": [
    "# RGB Images (3D Array)\n",
    "rgb_image = np.array([[[255, 0, 0], [0, 255, 0], [0, 0, 255], [255, 0, 0], [0, 255, 0], [0, 0, 255]],  # Red, Green, Blue\n",
    "                      [[255, 255, 0], [0, 255, 255], [255, 0, 255], [255, 255, 0], [0, 255, 255], [255, 0, 255]],  # Yellow, Cyan, Magenta\n",
    "                      [[128, 128, 128], [64, 64, 64], [0, 0, 0], [128, 128, 128], [64, 64, 64], [0, 0, 0]]  # Gray, Dark gray, Black\n",
    "                      ])\n",
    "# each pixel contain 3-length array that identify R-G-B value\n",
    "plt.figure(figsize = (3, 3))\n",
    "plt.imshow(rgb_image)\n",
    "plt.title(rgb_image.shape);"
   ]
  },
  {
   "cell_type": "markdown",
   "metadata": {},
   "source": [
    "## Load dataset\n",
    "- https://www.tensorflow.org/api_docs/python/tf/keras/datasets/cifar10/load_data"
   ]
  },
  {
   "cell_type": "code",
   "execution_count": 6,
   "metadata": {},
   "outputs": [],
   "source": [
    "(train_images, train_labels), (test_images, test_labels) = tf.keras.datasets.cifar10.load_data()\n",
    "\n",
    "# assert train_images.shape == (50000, 32, 32, 3)\n",
    "# assert train_labels.shape == (10000, 32, 32, 3)\n",
    "# assert y_train.shape == (50000, 1)\n",
    "# assert y_test.shape == (10000, 1)"
   ]
  },
  {
   "cell_type": "code",
   "execution_count": 14,
   "metadata": {},
   "outputs": [
    {
     "data": {
      "text/plain": [
       "'truck'"
      ]
     },
     "execution_count": 14,
     "metadata": {},
     "output_type": "execute_result"
    }
   ],
   "source": [
    "class_names = ['airplane', 'automobile', 'bird', 'cat', 'deer',\n",
    "               'dog', 'frog', 'horse', 'ship', 'truck']\n",
    "\n",
    "class_names[9]"
   ]
  },
  {
   "cell_type": "code",
   "execution_count": 15,
   "metadata": {},
   "outputs": [
    {
     "name": "stdout",
     "output_type": "stream",
     "text": [
      "Total train images:\t 50000\n",
      "Total test images:\t 10000\n",
      "\n",
      "Image index: 1\n",
      "Size: 32 x 32 pixels\n",
      "Color: RGB (3-length array)\n",
      "Image Label: 9 (truck)\n",
      "Iamge matrix:\n",
      " [[[154 177 187]\n",
      "  [126 137 136]\n",
      "  [105 104  95]\n",
      "  ...\n",
      "  [ 91  95  71]\n",
      "  [ 87  90  71]\n",
      "  [ 79  81  70]]\n",
      "\n",
      " [[140 160 169]\n",
      "  [145 153 154]\n",
      "  [125 125 118]\n",
      "  ...\n",
      "  [ 96  99  78]\n",
      "  [ 77  80  62]\n",
      "  [ 71  73  61]]\n",
      "\n",
      " [[140 155 164]\n",
      "  [139 146 149]\n",
      "  [115 115 112]\n",
      "  ...\n",
      "  [ 79  82  64]\n",
      "  [ 68  70  55]\n",
      "  [ 67  69  55]]\n",
      "\n",
      " ...\n",
      "\n",
      " [[175 167 166]\n",
      "  [156 154 160]\n",
      "  [154 160 170]\n",
      "  ...\n",
      "  [ 42  34  36]\n",
      "  [ 61  53  57]\n",
      "  [ 93  83  91]]\n",
      "\n",
      " [[165 154 128]\n",
      "  [156 152 130]\n",
      "  [159 161 142]\n",
      "  ...\n",
      "  [103  93  96]\n",
      "  [123 114 120]\n",
      "  [131 121 131]]\n",
      "\n",
      " [[163 148 120]\n",
      "  [158 148 122]\n",
      "  [163 156 133]\n",
      "  ...\n",
      "  [143 133 139]\n",
      "  [143 134 142]\n",
      "  [143 133 144]]]\n"
     ]
    }
   ],
   "source": [
    "print(\"Total train images:\\t\", len(train_images))\n",
    "print(\"Total test images:\\t\", len(test_images))\n",
    "\n",
    "index = 1\n",
    "print(\"\\nImage index:\", index)\n",
    "print(\"Size: {} x {} pixels\".format(train_images[index].shape[0], train_images[index].shape[1])) # 32 x 32 pixels (RGB pics)\n",
    "try:\n",
    "    print(\"Color: RGB ({}-length array)\".format(train_images[index].shape[2]))\n",
    "except:\n",
    "    print(\"Colot: Grayscale\")\n",
    "print(\"Image Label: {} ({})\".format(train_labels[index][0], class_names[train_labels[index][0]]))\n",
    "print(\"Iamge matrix:\\n\", train_images[index])"
   ]
  },
  {
   "cell_type": "markdown",
   "metadata": {},
   "source": [
    "## Exploratory Data Analysis"
   ]
  },
  {
   "cell_type": "code",
   "execution_count": 16,
   "metadata": {},
   "outputs": [],
   "source": [
    "def show_images(train_images, class_names, train_labels,\n",
    "            \tn_samples = 12, n_rows = 4):\n",
    "    \n",
    "\tplt.figure(figsize = (12, 12))\n",
    "\tn_cols = int(n_samples/n_rows)\n",
    "\n",
    "\tfor index in range(n_samples):\n",
    "\n",
    "\t\ttrain_image = train_images[index]\n",
    "\t\tlabel_num = train_labels[index][0]\n",
    "\t\tclass_name = class_names[label_num]\n",
    "\n",
    "\t\tplt.subplot(n_cols, n_rows, index + 1)\n",
    "\t\tplt.xticks([])\n",
    "\t\tplt.yticks([])\n",
    "\t\tplt.grid(False)\n",
    "\t\tplt.imshow(train_image)\n",
    "\t\tplt.xlabel(class_name)\n",
    "\n",
    "\tplt.show()"
   ]
  },
  {
   "cell_type": "code",
   "execution_count": 17,
   "metadata": {},
   "outputs": [
    {
     "data": {
      "image/png": "[encoded data removed]",
      "text/plain": [
       "<Figure size 1200x1200 with 12 Axes>"
      ]
     },
     "metadata": {},
     "output_type": "display_data"
    }
   ],
   "source": [
    "show_images(train_images, class_names, train_labels)"
   ]
  },
  {
   "cell_type": "markdown",
   "metadata": {},
   "source": [
    "## Data preprocessing"
   ]
  },
  {
   "cell_type": "code",
   "execution_count": 18,
   "metadata": {},
   "outputs": [],
   "source": [
    "max_pixel_value = 255 # normalize 0-255 to 0-1"
   ]
  },
  {
   "cell_type": "code",
   "execution_count": 19,
   "metadata": {},
   "outputs": [
    {
     "name": "stdout",
     "output_type": "stream",
     "text": [
      "[[[154 177 187]\n",
      "  [126 137 136]\n",
      "  [105 104  95]\n",
      "  ...\n",
      "  [ 91  95  71]\n",
      "  [ 87  90  71]\n",
      "  [ 79  81  70]]\n",
      "\n",
      " [[140 160 169]\n",
      "  [145 153 154]\n",
      "  [125 125 118]\n",
      "  ...\n",
      "  [ 96  99  78]\n",
      "  [ 77  80  62]\n",
      "  [ 71  73  61]]\n",
      "\n",
      " [[140 155 164]\n",
      "  [139 146 149]\n",
      "  [115 115 112]\n",
      "  ...\n",
      "  [ 79  82  64]\n",
      "  [ 68  70  55]\n",
      "  [ 67  69  55]]\n",
      "\n",
      " ...\n",
      "\n",
      " [[175 167 166]\n",
      "  [156 154 160]\n",
      "  [154 160 170]\n",
      "  ...\n",
      "  [ 42  34  36]\n",
      "  [ 61  53  57]\n",
      "  [ 93  83  91]]\n",
      "\n",
      " [[165 154 128]\n",
      "  [156 152 130]\n",
      "  [159 161 142]\n",
      "  ...\n",
      "  [103  93  96]\n",
      "  [123 114 120]\n",
      "  [131 121 131]]\n",
      "\n",
      " [[163 148 120]\n",
      "  [158 148 122]\n",
      "  [163 156 133]\n",
      "  ...\n",
      "  [143 133 139]\n",
      "  [143 134 142]\n",
      "  [143 133 144]]]\n",
      "[[[0.60392157 0.69411765 0.73333333]\n",
      "  [0.49411765 0.5372549  0.53333333]\n",
      "  [0.41176471 0.40784314 0.37254902]\n",
      "  ...\n",
      "  [0.35686275 0.37254902 0.27843137]\n",
      "  [0.34117647 0.35294118 0.27843137]\n",
      "  [0.30980392 0.31764706 0.2745098 ]]\n",
      "\n",
      " [[0.54901961 0.62745098 0.6627451 ]\n",
      "  [0.56862745 0.6        0.60392157]\n",
      "  [0.49019608 0.49019608 0.4627451 ]\n",
      "  ...\n",
      "  [0.37647059 0.38823529 0.30588235]\n",
      "  [0.30196078 0.31372549 0.24313725]\n",
      "  [0.27843137 0.28627451 0.23921569]]\n",
      "\n",
      " [[0.54901961 0.60784314 0.64313725]\n",
      "  [0.54509804 0.57254902 0.58431373]\n",
      "  [0.45098039 0.45098039 0.43921569]\n",
      "  ...\n",
      "  [0.30980392 0.32156863 0.25098039]\n",
      "  [0.26666667 0.2745098  0.21568627]\n",
      "  [0.2627451  0.27058824 0.21568627]]\n",
      "\n",
      " ...\n",
      "\n",
      " [[0.68627451 0.65490196 0.65098039]\n",
      "  [0.61176471 0.60392157 0.62745098]\n",
      "  [0.60392157 0.62745098 0.66666667]\n",
      "  ...\n",
      "  [0.16470588 0.13333333 0.14117647]\n",
      "  [0.23921569 0.20784314 0.22352941]\n",
      "  [0.36470588 0.3254902  0.35686275]]\n",
      "\n",
      " [[0.64705882 0.60392157 0.50196078]\n",
      "  [0.61176471 0.59607843 0.50980392]\n",
      "  [0.62352941 0.63137255 0.55686275]\n",
      "  ...\n",
      "  [0.40392157 0.36470588 0.37647059]\n",
      "  [0.48235294 0.44705882 0.47058824]\n",
      "  [0.51372549 0.4745098  0.51372549]]\n",
      "\n",
      " [[0.63921569 0.58039216 0.47058824]\n",
      "  [0.61960784 0.58039216 0.47843137]\n",
      "  [0.63921569 0.61176471 0.52156863]\n",
      "  ...\n",
      "  [0.56078431 0.52156863 0.54509804]\n",
      "  [0.56078431 0.5254902  0.55686275]\n",
      "  [0.56078431 0.52156863 0.56470588]]]\n"
     ]
    }
   ],
   "source": [
    "index = 1\n",
    "print(train_images[index][0])\n",
    "\n",
    "train_images = train_images / max_pixel_value\n",
    "print(train_images[index])"
   ]
  },
  {
   "cell_type": "code",
   "execution_count": 21,
   "metadata": {},
   "outputs": [
    {
     "name": "stdout",
     "output_type": "stream",
     "text": [
      "[[[0.92156863 0.92156863 0.92156863]\n",
      "  [0.90588235 0.90588235 0.90588235]\n",
      "  [0.90980392 0.90980392 0.90980392]\n",
      "  ...\n",
      "  [0.91372549 0.91372549 0.91372549]\n",
      "  [0.91372549 0.91372549 0.91372549]\n",
      "  [0.90980392 0.90980392 0.90980392]]\n",
      "\n",
      " [[0.93333333 0.93333333 0.93333333]\n",
      "  [0.92156863 0.92156863 0.92156863]\n",
      "  [0.92156863 0.92156863 0.92156863]\n",
      "  ...\n",
      "  [0.9254902  0.9254902  0.9254902 ]\n",
      "  [0.9254902  0.9254902  0.9254902 ]\n",
      "  [0.92156863 0.92156863 0.92156863]]\n",
      "\n",
      " [[0.92941176 0.92941176 0.92941176]\n",
      "  [0.91764706 0.91764706 0.91764706]\n",
      "  [0.91764706 0.91764706 0.91764706]\n",
      "  ...\n",
      "  [0.92156863 0.92156863 0.92156863]\n",
      "  [0.92156863 0.92156863 0.92156863]\n",
      "  [0.91764706 0.91764706 0.91764706]]\n",
      "\n",
      " ...\n",
      "\n",
      " [[0.34117647 0.38823529 0.34901961]\n",
      "  [0.16862745 0.2        0.14509804]\n",
      "  [0.0745098  0.09019608 0.04313725]\n",
      "  ...\n",
      "  [0.6627451  0.72156863 0.70196078]\n",
      "  [0.71372549 0.77254902 0.75686275]\n",
      "  [0.7372549  0.79215686 0.78823529]]\n",
      "\n",
      " [[0.32156863 0.37647059 0.32156863]\n",
      "  [0.18039216 0.22352941 0.14117647]\n",
      "  [0.14117647 0.17254902 0.08627451]\n",
      "  ...\n",
      "  [0.68235294 0.74117647 0.71764706]\n",
      "  [0.7254902  0.78431373 0.76862745]\n",
      "  [0.73333333 0.79215686 0.78431373]]\n",
      "\n",
      " [[0.33333333 0.39607843 0.3254902 ]\n",
      "  [0.24313725 0.29411765 0.18823529]\n",
      "  [0.22745098 0.2627451  0.14901961]\n",
      "  ...\n",
      "  [0.65882353 0.71764706 0.69803922]\n",
      "  [0.70588235 0.76470588 0.74901961]\n",
      "  [0.72941176 0.78431373 0.78039216]]]\n"
     ]
    }
   ],
   "source": [
    "test_images = test_images / max_pixel_value\n",
    "print(test_images[index])"
   ]
  },
  {
   "cell_type": "code",
   "execution_count": 28,
   "metadata": {},
   "outputs": [
    {
     "name": "stdout",
     "output_type": "stream",
     "text": [
      "Total class names:\t 10\n",
      "Min label number:\t 0\n",
      "Max label number:\t 9\n"
     ]
    }
   ],
   "source": [
    "print(\"Total class names:\\t\", len(class_names))\n",
    "print(\"Min label number:\\t\", min(train_labels, key = lambda x: x[0])[0])\n",
    "print(\"Max label number:\\t\", max(train_labels, key = lambda x: x[0])[0])"
   ]
  },
  {
   "cell_type": "code",
   "execution_count": 34,
   "metadata": {},
   "outputs": [
    {
     "name": "stdout",
     "output_type": "stream",
     "text": [
      "[9]\n",
      "[0. 0. 0. 0. 0. 0. 0. 0. 0. 1.]\n"
     ]
    }
   ],
   "source": [
    "# prepare get-dummy array\n",
    "print(train_labels[index])\n",
    "\n",
    "train_labels = to_categorical(train_labels, len(class_names))\n",
    "test_labels = to_categorical(test_labels, len(class_names))\n",
    "\n",
    "print(train_labels[index])"
   ]
  },
  {
   "cell_type": "markdown",
   "metadata": {},
   "source": [
    "## Model architecture implementation"
   ]
  },
  {
   "cell_type": "code",
   "execution_count": 38,
   "metadata": {},
   "outputs": [],
   "source": [
    "# Variables\n",
    "INPUT_SHAPE = (32, 32, 3) # train_images[index].shape\n",
    "\n",
    "FILTER_SHAPE = (3, 3) # result: 30x30 pixels (x 32 feature map) for each time applying filter (element-wise multiplication + sum)\n",
    "\n",
    "# This represents the number of filters that will be applied. So, 32 different 3x3 filters will be used in the first convolutional layer. \n",
    "# Each filter will produce a separate feature map.\n",
    "FILTER1_SIZE = 32\n",
    "FILTER2_SIZE = 64\n",
    "\n",
    "# Select max value from every 2x2 matrix (no overlap)\n",
    "POOL_SHAPE = (2, 2) # result from 30 x 30 -> 15 x 15\n",
    "\n",
    "FULLY_CONNECT_NUM = 128 # every value full connect for each node (from total 128 nodes)\n",
    "NUM_CLASSES = len(class_names) # final nodes is total predicted classes\n",
    "\n",
    "BATCH_SIZE = 32\n",
    "EPOCHS = 30"
   ]
  },
  {
   "cell_type": "code",
   "execution_count": 54,
   "metadata": {},
   "outputs": [],
   "source": [
    "# Define your input shape\n",
    "model = Sequential()\n",
    "\n",
    "# Use an Input layer to specify the input shape\n",
    "model.add(Input(shape = INPUT_SHAPE))\n",
    "\n",
    "# Add other layers\n",
    "model.add(Conv2D(FILTER1_SIZE, FILTER_SHAPE, activation = 'relu')) # relu: min(value) = 0\n",
    "model.add(MaxPooling2D(POOL_SHAPE))\n",
    "\n",
    "model.add(Conv2D(FILTER2_SIZE, FILTER_SHAPE, activation = 'relu'))\n",
    "model.add(MaxPooling2D(POOL_SHAPE))\n",
    "\n",
    "model.add(Flatten())\n",
    "model.add(Dense(FULLY_CONNECT_NUM, activation = 'relu'))\n",
    "model.add(Dense(NUM_CLASSES, activation = 'softmax'))"
   ]
  },
  {
   "cell_type": "code",
   "execution_count": 55,
   "metadata": {},
   "outputs": [
    {
     "data": {
      "text/html": [
       "<pre style=\"white-space:pre;overflow-x:auto;line-height:normal;font-family:Menlo,'DejaVu Sans Mono',consolas,'Courier New',monospace\"><span style=\"font-weight: bold\">Model: \"sequential_2\"</span>\n",
       "</pre>\n"
      ],
      "text/plain": [
       "\u001b[1mModel: \"sequential_2\"\u001b[0m\n"
      ]
     },
     "metadata": {},
     "output_type": "display_data"
    },
    {
     "data": {
      "text/html": [
       "<pre style=\"white-space:pre;overflow-x:auto;line-height:normal;font-family:Menlo,'DejaVu Sans Mono',consolas,'Courier New',monospace\">┏━━━━━━━━━━━━━━━━━━━━━━━━━━━━━━━━━┳━━━━━━━━━━━━━━━━━━━━━━━━┳━━━━━━━━━━━━━━━┓\n",
       "┃<span style=\"font-weight: bold\"> Layer (type)                    </span>┃<span style=\"font-weight: bold\"> Output Shape           </span>┃<span style=\"font-weight: bold\">       Param # </span>┃\n",
       "┡━━━━━━━━━━━━━━━━━━━━━━━━━━━━━━━━━╇━━━━━━━━━━━━━━━━━━━━━━━━╇━━━━━━━━━━━━━━━┩\n",
       "│ conv2d_3 (<span style=\"color: #0087ff; text-decoration-color: #0087ff\">Conv2D</span>)               │ (<span style=\"color: #00d7ff; text-decoration-color: #00d7ff\">None</span>, <span style=\"color: #00af00; text-decoration-color: #00af00\">30</span>, <span style=\"color: #00af00; text-decoration-color: #00af00\">30</span>, <span style=\"color: #00af00; text-decoration-color: #00af00\">32</span>)     │           <span style=\"color: #00af00; text-decoration-color: #00af00\">896</span> │\n",
       "├─────────────────────────────────┼────────────────────────┼───────────────┤\n",
       "│ max_pooling2d_3 (<span style=\"color: #0087ff; text-decoration-color: #0087ff\">MaxPooling2D</span>)  │ (<span style=\"color: #00d7ff; text-decoration-color: #00d7ff\">None</span>, <span style=\"color: #00af00; text-decoration-color: #00af00\">15</span>, <span style=\"color: #00af00; text-decoration-color: #00af00\">15</span>, <span style=\"color: #00af00; text-decoration-color: #00af00\">32</span>)     │             <span style=\"color: #00af00; text-decoration-color: #00af00\">0</span> │\n",
       "├─────────────────────────────────┼────────────────────────┼───────────────┤\n",
       "│ conv2d_4 (<span style=\"color: #0087ff; text-decoration-color: #0087ff\">Conv2D</span>)               │ (<span style=\"color: #00d7ff; text-decoration-color: #00d7ff\">None</span>, <span style=\"color: #00af00; text-decoration-color: #00af00\">13</span>, <span style=\"color: #00af00; text-decoration-color: #00af00\">13</span>, <span style=\"color: #00af00; text-decoration-color: #00af00\">64</span>)     │        <span style=\"color: #00af00; text-decoration-color: #00af00\">18,496</span> │\n",
       "├─────────────────────────────────┼────────────────────────┼───────────────┤\n",
       "│ max_pooling2d_4 (<span style=\"color: #0087ff; text-decoration-color: #0087ff\">MaxPooling2D</span>)  │ (<span style=\"color: #00d7ff; text-decoration-color: #00d7ff\">None</span>, <span style=\"color: #00af00; text-decoration-color: #00af00\">6</span>, <span style=\"color: #00af00; text-decoration-color: #00af00\">6</span>, <span style=\"color: #00af00; text-decoration-color: #00af00\">64</span>)       │             <span style=\"color: #00af00; text-decoration-color: #00af00\">0</span> │\n",
       "├─────────────────────────────────┼────────────────────────┼───────────────┤\n",
       "│ flatten_2 (<span style=\"color: #0087ff; text-decoration-color: #0087ff\">Flatten</span>)             │ (<span style=\"color: #00d7ff; text-decoration-color: #00d7ff\">None</span>, <span style=\"color: #00af00; text-decoration-color: #00af00\">2304</span>)           │             <span style=\"color: #00af00; text-decoration-color: #00af00\">0</span> │\n",
       "├─────────────────────────────────┼────────────────────────┼───────────────┤\n",
       "│ dense_4 (<span style=\"color: #0087ff; text-decoration-color: #0087ff\">Dense</span>)                 │ (<span style=\"color: #00d7ff; text-decoration-color: #00d7ff\">None</span>, <span style=\"color: #00af00; text-decoration-color: #00af00\">128</span>)            │       <span style=\"color: #00af00; text-decoration-color: #00af00\">295,040</span> │\n",
       "├─────────────────────────────────┼────────────────────────┼───────────────┤\n",
       "│ dense_5 (<span style=\"color: #0087ff; text-decoration-color: #0087ff\">Dense</span>)                 │ (<span style=\"color: #00d7ff; text-decoration-color: #00d7ff\">None</span>, <span style=\"color: #00af00; text-decoration-color: #00af00\">10</span>)             │         <span style=\"color: #00af00; text-decoration-color: #00af00\">1,290</span> │\n",
       "└─────────────────────────────────┴────────────────────────┴───────────────┘\n",
       "</pre>\n"
      ],
      "text/plain": [
       "┏━━━━━━━━━━━━━━━━━━━━━━━━━━━━━━━━━┳━━━━━━━━━━━━━━━━━━━━━━━━┳━━━━━━━━━━━━━━━┓\n",
       "┃\u001b[1m \u001b[0m\u001b[1mLayer (type)                   \u001b[0m\u001b[1m \u001b[0m┃\u001b[1m \u001b[0m\u001b[1mOutput Shape          \u001b[0m\u001b[1m \u001b[0m┃\u001b[1m \u001b[0m\u001b[1m      Param #\u001b[0m\u001b[1m \u001b[0m┃\n",
       "┡━━━━━━━━━━━━━━━━━━━━━━━━━━━━━━━━━╇━━━━━━━━━━━━━━━━━━━━━━━━╇━━━━━━━━━━━━━━━┩\n",
       "│ conv2d_3 (\u001b[38;5;33mConv2D\u001b[0m)               │ (\u001b[38;5;45mNone\u001b[0m, \u001b[38;5;34m30\u001b[0m, \u001b[38;5;34m30\u001b[0m, \u001b[38;5;34m32\u001b[0m)     │           \u001b[38;5;34m896\u001b[0m │\n",
       "├─────────────────────────────────┼────────────────────────┼───────────────┤\n",
       "│ max_pooling2d_3 (\u001b[38;5;33mMaxPooling2D\u001b[0m)  │ (\u001b[38;5;45mNone\u001b[0m, \u001b[38;5;34m15\u001b[0m, \u001b[38;5;34m15\u001b[0m, \u001b[38;5;34m32\u001b[0m)     │             \u001b[38;5;34m0\u001b[0m │\n",
       "├─────────────────────────────────┼────────────────────────┼───────────────┤\n",
       "│ conv2d_4 (\u001b[38;5;33mConv2D\u001b[0m)               │ (\u001b[38;5;45mNone\u001b[0m, \u001b[38;5;34m13\u001b[0m, \u001b[38;5;34m13\u001b[0m, \u001b[38;5;34m64\u001b[0m)     │        \u001b[38;5;34m18,496\u001b[0m │\n",
       "├─────────────────────────────────┼────────────────────────┼───────────────┤\n",
       "│ max_pooling2d_4 (\u001b[38;5;33mMaxPooling2D\u001b[0m)  │ (\u001b[38;5;45mNone\u001b[0m, \u001b[38;5;34m6\u001b[0m, \u001b[38;5;34m6\u001b[0m, \u001b[38;5;34m64\u001b[0m)       │             \u001b[38;5;34m0\u001b[0m │\n",
       "├─────────────────────────────────┼────────────────────────┼───────────────┤\n",
       "│ flatten_2 (\u001b[38;5;33mFlatten\u001b[0m)             │ (\u001b[38;5;45mNone\u001b[0m, \u001b[38;5;34m2304\u001b[0m)           │             \u001b[38;5;34m0\u001b[0m │\n",
       "├─────────────────────────────────┼────────────────────────┼───────────────┤\n",
       "│ dense_4 (\u001b[38;5;33mDense\u001b[0m)                 │ (\u001b[38;5;45mNone\u001b[0m, \u001b[38;5;34m128\u001b[0m)            │       \u001b[38;5;34m295,040\u001b[0m │\n",
       "├─────────────────────────────────┼────────────────────────┼───────────────┤\n",
       "│ dense_5 (\u001b[38;5;33mDense\u001b[0m)                 │ (\u001b[38;5;45mNone\u001b[0m, \u001b[38;5;34m10\u001b[0m)             │         \u001b[38;5;34m1,290\u001b[0m │\n",
       "└─────────────────────────────────┴────────────────────────┴───────────────┘\n"
      ]
     },
     "metadata": {},
     "output_type": "display_data"
    },
    {
     "data": {
      "text/html": [
       "<pre style=\"white-space:pre;overflow-x:auto;line-height:normal;font-family:Menlo,'DejaVu Sans Mono',consolas,'Courier New',monospace\"><span style=\"font-weight: bold\"> Total params: </span><span style=\"color: #00af00; text-decoration-color: #00af00\">315,722</span> (1.20 MB)\n",
       "</pre>\n"
      ],
      "text/plain": [
       "\u001b[1m Total params: \u001b[0m\u001b[38;5;34m315,722\u001b[0m (1.20 MB)\n"
      ]
     },
     "metadata": {},
     "output_type": "display_data"
    },
    {
     "data": {
      "text/html": [
       "<pre style=\"white-space:pre;overflow-x:auto;line-height:normal;font-family:Menlo,'DejaVu Sans Mono',consolas,'Courier New',monospace\"><span style=\"font-weight: bold\"> Trainable params: </span><span style=\"color: #00af00; text-decoration-color: #00af00\">315,722</span> (1.20 MB)\n",
       "</pre>\n"
      ],
      "text/plain": [
       "\u001b[1m Trainable params: \u001b[0m\u001b[38;5;34m315,722\u001b[0m (1.20 MB)\n"
      ]
     },
     "metadata": {},
     "output_type": "display_data"
    },
    {
     "data": {
      "text/html": [
       "<pre style=\"white-space:pre;overflow-x:auto;line-height:normal;font-family:Menlo,'DejaVu Sans Mono',consolas,'Courier New',monospace\"><span style=\"font-weight: bold\"> Non-trainable params: </span><span style=\"color: #00af00; text-decoration-color: #00af00\">0</span> (0.00 B)\n",
       "</pre>\n"
      ],
      "text/plain": [
       "\u001b[1m Non-trainable params: \u001b[0m\u001b[38;5;34m0\u001b[0m (0.00 B)\n"
      ]
     },
     "metadata": {},
     "output_type": "display_data"
    }
   ],
   "source": [
    "model.summary()\n",
    "# Total Parameters = (Filter Height × Filter Width × Input Channels + 1) × Number of Filters"
   ]
  },
  {
   "cell_type": "markdown",
   "metadata": {},
   "source": [
    "## Model training"
   ]
  },
  {
   "cell_type": "code",
   "execution_count": 50,
   "metadata": {},
   "outputs": [],
   "source": [
    "METRICS = ['accuracy',\n",
    "           Precision(name = 'precision'),\n",
    "           Recall(name = 'recall')]\n",
    "\n",
    "model.compile(optimizer = 'adam',\n",
    "              loss = 'categorical_crossentropy',\n",
    "              metrics = METRICS)"
   ]
  },
  {
   "cell_type": "code",
   "execution_count": 53,
   "metadata": {},
   "outputs": [
    {
     "name": "stdout",
     "output_type": "stream",
     "text": [
      "Epoch 1/30\n",
      "\u001b[1m1563/1563\u001b[0m \u001b[32m━━━━━━━━━━━━━━━━━━━━\u001b[0m\u001b[37m\u001b[0m \u001b[1m74s\u001b[0m 45ms/step - accuracy: 0.4387 - loss: 1.5738 - precision: 0.6701 - recall: 0.1935 - val_accuracy: 0.5853 - val_loss: 1.1834 - val_precision: 0.7334 - val_recall: 0.4218\n",
      "Epoch 2/30\n",
      "\u001b[1m1563/1563\u001b[0m \u001b[32m━━━━━━━━━━━━━━━━━━━━\u001b[0m\u001b[37m\u001b[0m \u001b[1m70s\u001b[0m 45ms/step - accuracy: 0.6115 - loss: 1.1050 - precision: 0.7611 - recall: 0.4535 - val_accuracy: 0.6049 - val_loss: 1.1094 - val_precision: 0.7284 - val_recall: 0.4880\n",
      "Epoch 3/30\n",
      "\u001b[1m1563/1563\u001b[0m \u001b[32m━━━━━━━━━━━━━━━━━━━━\u001b[0m\u001b[37m\u001b[0m \u001b[1m71s\u001b[0m 46ms/step - accuracy: 0.6758 - loss: 0.9276 - precision: 0.7933 - recall: 0.5485 - val_accuracy: 0.6218 - val_loss: 1.0725 - val_precision: 0.7529 - val_recall: 0.4917\n",
      "Epoch 4/30\n",
      "\u001b[1m1563/1563\u001b[0m \u001b[32m━━━━━━━━━━━━━━━━━━━━\u001b[0m\u001b[37m\u001b[0m \u001b[1m72s\u001b[0m 46ms/step - accuracy: 0.7142 - loss: 0.8178 - precision: 0.8163 - recall: 0.6084 - val_accuracy: 0.6356 - val_loss: 1.0379 - val_precision: 0.7377 - val_recall: 0.5403\n",
      "Epoch 5/30\n",
      "\u001b[1m1563/1563\u001b[0m \u001b[32m━━━━━━━━━━━━━━━━━━━━\u001b[0m\u001b[37m\u001b[0m \u001b[1m72s\u001b[0m 46ms/step - accuracy: 0.7525 - loss: 0.7063 - precision: 0.8418 - recall: 0.6688 - val_accuracy: 0.6319 - val_loss: 1.0886 - val_precision: 0.7216 - val_recall: 0.5572\n",
      "Epoch 6/30\n",
      "\u001b[1m1563/1563\u001b[0m \u001b[32m━━━━━━━━━━━━━━━━━━━━\u001b[0m\u001b[37m\u001b[0m \u001b[1m73s\u001b[0m 47ms/step - accuracy: 0.7872 - loss: 0.6132 - precision: 0.8587 - recall: 0.7145 - val_accuracy: 0.6559 - val_loss: 1.0419 - val_precision: 0.7287 - val_recall: 0.5880\n",
      "Epoch 7/30\n",
      "\u001b[1m1563/1563\u001b[0m \u001b[32m━━━━━━━━━━━━━━━━━━━━\u001b[0m\u001b[37m\u001b[0m \u001b[1m85s\u001b[0m 54ms/step - accuracy: 0.8196 - loss: 0.5226 - precision: 0.8748 - recall: 0.7619 - val_accuracy: 0.6417 - val_loss: 1.1337 - val_precision: 0.6996 - val_recall: 0.5915\n",
      "Epoch 8/30\n",
      "\u001b[1m1563/1563\u001b[0m \u001b[32m━━━━━━━━━━━━━━━━━━━━\u001b[0m\u001b[37m\u001b[0m \u001b[1m89s\u001b[0m 57ms/step - accuracy: 0.8476 - loss: 0.4454 - precision: 0.8974 - recall: 0.8012 - val_accuracy: 0.6610 - val_loss: 1.1677 - val_precision: 0.7071 - val_recall: 0.6162\n",
      "Epoch 9/30\n",
      "\u001b[1m1563/1563\u001b[0m \u001b[32m━━━━━━━━━━━━━━━━━━━━\u001b[0m\u001b[37m\u001b[0m \u001b[1m92s\u001b[0m 59ms/step - accuracy: 0.8695 - loss: 0.3807 - precision: 0.9079 - recall: 0.8321 - val_accuracy: 0.6449 - val_loss: 1.2260 - val_precision: 0.6926 - val_recall: 0.6080\n",
      "Epoch 10/30\n",
      "\u001b[1m1563/1563\u001b[0m \u001b[32m━━━━━━━━━━━━━━━━━━━━\u001b[0m\u001b[37m\u001b[0m \u001b[1m76s\u001b[0m 49ms/step - accuracy: 0.8961 - loss: 0.3084 - precision: 0.9250 - recall: 0.8671 - val_accuracy: 0.6415 - val_loss: 1.3933 - val_precision: 0.6746 - val_recall: 0.6098\n",
      "Epoch 11/30\n",
      "\u001b[1m1563/1563\u001b[0m \u001b[32m━━━━━━━━━━━━━━━━━━━━\u001b[0m\u001b[37m\u001b[0m \u001b[1m73s\u001b[0m 47ms/step - accuracy: 0.9157 - loss: 0.2527 - precision: 0.9384 - recall: 0.8950 - val_accuracy: 0.6336 - val_loss: 1.4705 - val_precision: 0.6643 - val_recall: 0.6101\n",
      "Epoch 12/30\n",
      "\u001b[1m1563/1563\u001b[0m \u001b[32m━━━━━━━━━━━━━━━━━━━━\u001b[0m\u001b[37m\u001b[0m \u001b[1m74s\u001b[0m 48ms/step - accuracy: 0.9300 - loss: 0.2101 - precision: 0.9474 - recall: 0.9133 - val_accuracy: 0.6343 - val_loss: 1.6587 - val_precision: 0.6564 - val_recall: 0.6167\n",
      "Epoch 13/30\n",
      "\u001b[1m1563/1563\u001b[0m \u001b[32m━━━━━━━━━━━━━━━━━━━━\u001b[0m\u001b[37m\u001b[0m \u001b[1m78s\u001b[0m 50ms/step - accuracy: 0.9462 - loss: 0.1663 - precision: 0.9587 - recall: 0.9339 - val_accuracy: 0.6236 - val_loss: 1.8692 - val_precision: 0.6418 - val_recall: 0.6084\n",
      "Epoch 14/30\n",
      "\u001b[1m1563/1563\u001b[0m \u001b[32m━━━━━━━━━━━━━━━━━━━━\u001b[0m\u001b[37m\u001b[0m \u001b[1m83s\u001b[0m 53ms/step - accuracy: 0.9524 - loss: 0.1465 - precision: 0.9612 - recall: 0.9431 - val_accuracy: 0.6379 - val_loss: 1.8585 - val_precision: 0.6544 - val_recall: 0.6217\n",
      "Epoch 15/30\n",
      "\u001b[1m1563/1563\u001b[0m \u001b[32m━━━━━━━━━━━━━━━━━━━━\u001b[0m\u001b[37m\u001b[0m \u001b[1m64s\u001b[0m 41ms/step - accuracy: 0.9582 - loss: 0.1257 - precision: 0.9661 - recall: 0.9509 - val_accuracy: 0.6423 - val_loss: 1.9424 - val_precision: 0.6578 - val_recall: 0.6304\n",
      "Epoch 16/30\n",
      "\u001b[1m1563/1563\u001b[0m \u001b[32m━━━━━━━━━━━━━━━━━━━━\u001b[0m\u001b[37m\u001b[0m \u001b[1m63s\u001b[0m 40ms/step - accuracy: 0.9660 - loss: 0.1059 - precision: 0.9716 - recall: 0.9599 - val_accuracy: 0.6277 - val_loss: 2.1404 - val_precision: 0.6413 - val_recall: 0.6165\n",
      "Epoch 17/30\n",
      "\u001b[1m1563/1563\u001b[0m \u001b[32m━━━━━━━━━━━━━━━━━━━━\u001b[0m\u001b[37m\u001b[0m \u001b[1m63s\u001b[0m 40ms/step - accuracy: 0.9679 - loss: 0.0975 - precision: 0.9730 - recall: 0.9631 - val_accuracy: 0.6336 - val_loss: 2.1635 - val_precision: 0.6471 - val_recall: 0.6235\n",
      "Epoch 18/30\n",
      "\u001b[1m1563/1563\u001b[0m \u001b[32m━━━━━━━━━━━━━━━━━━━━\u001b[0m\u001b[37m\u001b[0m \u001b[1m67s\u001b[0m 43ms/step - accuracy: 0.9708 - loss: 0.0903 - precision: 0.9748 - recall: 0.9663 - val_accuracy: 0.6306 - val_loss: 2.3077 - val_precision: 0.6425 - val_recall: 0.6207\n",
      "Epoch 19/30\n",
      "\u001b[1m1563/1563\u001b[0m \u001b[32m━━━━━━━━━━━━━━━━━━━━\u001b[0m\u001b[37m\u001b[0m \u001b[1m70s\u001b[0m 45ms/step - accuracy: 0.9732 - loss: 0.0828 - precision: 0.9771 - recall: 0.9695 - val_accuracy: 0.6299 - val_loss: 2.4913 - val_precision: 0.6394 - val_recall: 0.6226\n",
      "Epoch 20/30\n",
      "\u001b[1m1563/1563\u001b[0m \u001b[32m━━━━━━━━━━━━━━━━━━━━\u001b[0m\u001b[37m\u001b[0m \u001b[1m79s\u001b[0m 50ms/step - accuracy: 0.9762 - loss: 0.0759 - precision: 0.9797 - recall: 0.9728 - val_accuracy: 0.6318 - val_loss: 2.5753 - val_precision: 0.6413 - val_recall: 0.6243\n",
      "Epoch 21/30\n",
      "\u001b[1m1563/1563\u001b[0m \u001b[32m━━━━━━━━━━━━━━━━━━━━\u001b[0m\u001b[37m\u001b[0m \u001b[1m85s\u001b[0m 54ms/step - accuracy: 0.9749 - loss: 0.0769 - precision: 0.9781 - recall: 0.9722 - val_accuracy: 0.6294 - val_loss: 2.6363 - val_precision: 0.6366 - val_recall: 0.6224\n",
      "Epoch 22/30\n",
      "\u001b[1m1563/1563\u001b[0m \u001b[32m━━━━━━━━━━━━━━━━━━━━\u001b[0m\u001b[37m\u001b[0m \u001b[1m86s\u001b[0m 55ms/step - accuracy: 0.9755 - loss: 0.0771 - precision: 0.9780 - recall: 0.9728 - val_accuracy: 0.6349 - val_loss: 2.6737 - val_precision: 0.6441 - val_recall: 0.6280\n",
      "Epoch 23/30\n",
      "\u001b[1m1563/1563\u001b[0m \u001b[32m━━━━━━━━━━━━━━━━━━━━\u001b[0m\u001b[37m\u001b[0m \u001b[1m91s\u001b[0m 58ms/step - accuracy: 0.9802 - loss: 0.0620 - precision: 0.9820 - recall: 0.9783 - val_accuracy: 0.6294 - val_loss: 2.7131 - val_precision: 0.6368 - val_recall: 0.6224\n",
      "Epoch 24/30\n",
      "\u001b[1m1563/1563\u001b[0m \u001b[32m━━━━━━━━━━━━━━━━━━━━\u001b[0m\u001b[37m\u001b[0m \u001b[1m78s\u001b[0m 50ms/step - accuracy: 0.9794 - loss: 0.0624 - precision: 0.9811 - recall: 0.9779 - val_accuracy: 0.6304 - val_loss: 2.8280 - val_precision: 0.6371 - val_recall: 0.6244\n",
      "Epoch 25/30\n",
      "\u001b[1m1563/1563\u001b[0m \u001b[32m━━━━━━━━━━━━━━━━━━━━\u001b[0m\u001b[37m\u001b[0m \u001b[1m77s\u001b[0m 49ms/step - accuracy: 0.9826 - loss: 0.0555 - precision: 0.9841 - recall: 0.9810 - val_accuracy: 0.6197 - val_loss: 3.0526 - val_precision: 0.6284 - val_recall: 0.6134\n",
      "Epoch 26/30\n",
      "\u001b[1m1563/1563\u001b[0m \u001b[32m━━━━━━━━━━━━━━━━━━━━\u001b[0m\u001b[37m\u001b[0m \u001b[1m84s\u001b[0m 54ms/step - accuracy: 0.9784 - loss: 0.0671 - precision: 0.9803 - recall: 0.9769 - val_accuracy: 0.6229 - val_loss: 3.0278 - val_precision: 0.6296 - val_recall: 0.6185\n",
      "Epoch 27/30\n",
      "\u001b[1m1563/1563\u001b[0m \u001b[32m━━━━━━━━━━━━━━━━━━━━\u001b[0m\u001b[37m\u001b[0m \u001b[1m75s\u001b[0m 48ms/step - accuracy: 0.9769 - loss: 0.0700 - precision: 0.9788 - recall: 0.9756 - val_accuracy: 0.6287 - val_loss: 3.0464 - val_precision: 0.6373 - val_recall: 0.6244\n",
      "Epoch 28/30\n",
      "\u001b[1m1563/1563\u001b[0m \u001b[32m━━━━━━━━━━━━━━━━━━━━\u001b[0m\u001b[37m\u001b[0m \u001b[1m77s\u001b[0m 49ms/step - accuracy: 0.9825 - loss: 0.0531 - precision: 0.9840 - recall: 0.9813 - val_accuracy: 0.6278 - val_loss: 3.2623 - val_precision: 0.6332 - val_recall: 0.6238\n",
      "Epoch 29/30\n",
      "\u001b[1m1563/1563\u001b[0m \u001b[32m━━━━━━━━━━━━━━━━━━━━\u001b[0m\u001b[37m\u001b[0m \u001b[1m76s\u001b[0m 49ms/step - accuracy: 0.9837 - loss: 0.0513 - precision: 0.9855 - recall: 0.9822 - val_accuracy: 0.6190 - val_loss: 3.1156 - val_precision: 0.6278 - val_recall: 0.6141\n",
      "Epoch 30/30\n",
      "\u001b[1m1563/1563\u001b[0m \u001b[32m━━━━━━━━━━━━━━━━━━━━\u001b[0m\u001b[37m\u001b[0m \u001b[1m76s\u001b[0m 49ms/step - accuracy: 0.9842 - loss: 0.0486 - precision: 0.9855 - recall: 0.9832 - val_accuracy: 0.6304 - val_loss: 3.2575 - val_precision: 0.6361 - val_recall: 0.6257\n"
     ]
    },
    {
     "data": {
      "text/plain": [
       "<keras.src.callbacks.history.History at 0x197bfe992b0>"
      ]
     },
     "execution_count": 53,
     "metadata": {},
     "output_type": "execute_result"
    }
   ],
   "source": [
    "# Train the model\n",
    "training_history = model.fit(train_images, train_labels,\n",
    "                             epochs = EPOCHS, \n",
    "                             batch_size = BATCH_SIZE,\n",
    "                             validation_data = (test_images, test_labels))\n",
    "\n",
    "training_history"
   ]
  },
  {
   "cell_type": "markdown",
   "metadata": {},
   "source": [
    "## Model evaluation"
   ]
  },
  {
   "cell_type": "code",
   "execution_count": 57,
   "metadata": {},
   "outputs": [],
   "source": [
    "def show_performance_curve(training_result, metric, metric_label):\n",
    "    \n",
    "\ttrain_perf = training_result.history[str(metric)]\n",
    "\tvalidation_perf = training_result.history['val_' + str(metric)]\n",
    "\tintersection_idx = np.argwhere(np.isclose(train_perf, \n",
    "\t\t\t\t\t\t\t\t\t\t   validation_perf, atol = 1e-2)).flatten()[0]\n",
    "\tintersection_value = train_perf[intersection_idx]\n",
    "    \n",
    "\tplt.plot(train_perf, label = metric_label)\n",
    "\tplt.plot(validation_perf, label = 'val_'+str(metric))\n",
    "\tplt.axvline(x = intersection_idx, color = 'r', linestyle = '--', label = 'Intersection')\n",
    "    \n",
    "\tplt.annotate(f'Optimal Value: {intersection_value:.4f}',\n",
    "         \txy = (intersection_idx, intersection_value),\n",
    "         \txycoords = 'data',\n",
    "         \tfontsize = 10,\n",
    "         \tcolor = 'green')\n",
    "            \t \n",
    "\tplt.xlabel('Epoch')\n",
    "\tplt.ylabel(metric_label)\n",
    "\tplt.legend(loc = 'lower right')"
   ]
  },
  {
   "cell_type": "code",
   "execution_count": 58,
   "metadata": {},
   "outputs": [
    {
     "ename": "IndexError",
     "evalue": "index 0 is out of bounds for axis 0 with size 0",
     "output_type": "error",
     "traceback": [
      "\u001b[1;31m---------------------------------------------------------------------------\u001b[0m",
      "\u001b[1;31mIndexError\u001b[0m                                Traceback (most recent call last)",
      "Cell \u001b[1;32mIn[58], line 1\u001b[0m\n\u001b[1;32m----> 1\u001b[0m show_performance_curve(training_history, \u001b[38;5;124m'\u001b[39m\u001b[38;5;124maccuracy\u001b[39m\u001b[38;5;124m'\u001b[39m, \u001b[38;5;124m'\u001b[39m\u001b[38;5;124maccuracy\u001b[39m\u001b[38;5;124m'\u001b[39m)\n",
      "Cell \u001b[1;32mIn[57], line 5\u001b[0m, in \u001b[0;36mshow_performance_curve\u001b[1;34m(training_result, metric, metric_label)\u001b[0m\n\u001b[0;32m      3\u001b[0m train_perf \u001b[38;5;241m=\u001b[39m training_result\u001b[38;5;241m.\u001b[39mhistory[\u001b[38;5;28mstr\u001b[39m(metric)]\n\u001b[0;32m      4\u001b[0m validation_perf \u001b[38;5;241m=\u001b[39m training_result\u001b[38;5;241m.\u001b[39mhistory[\u001b[38;5;124m'\u001b[39m\u001b[38;5;124mval_\u001b[39m\u001b[38;5;124m'\u001b[39m \u001b[38;5;241m+\u001b[39m \u001b[38;5;28mstr\u001b[39m(metric)]\n\u001b[1;32m----> 5\u001b[0m intersection_idx \u001b[38;5;241m=\u001b[39m np\u001b[38;5;241m.\u001b[39margwhere(np\u001b[38;5;241m.\u001b[39misclose(train_perf, \n\u001b[0;32m      6\u001b[0m \t\t\t\t\t\t\t\t\t   validation_perf, atol \u001b[38;5;241m=\u001b[39m \u001b[38;5;241m1e-2\u001b[39m))\u001b[38;5;241m.\u001b[39mflatten()[\u001b[38;5;241m0\u001b[39m]\n\u001b[0;32m      7\u001b[0m intersection_value \u001b[38;5;241m=\u001b[39m train_perf[intersection_idx]\n\u001b[0;32m      9\u001b[0m plt\u001b[38;5;241m.\u001b[39mplot(train_perf, label \u001b[38;5;241m=\u001b[39m metric_label)\n",
      "\u001b[1;31mIndexError\u001b[0m: index 0 is out of bounds for axis 0 with size 0"
     ]
    }
   ],
   "source": [
    "show_performance_curve(training_history, 'accuracy', 'accuracy')"
   ]
  },
  {
   "cell_type": "code",
   "execution_count": null,
   "metadata": {},
   "outputs": [],
   "source": [
    "show_performance_curve(training_history, 'precision', 'precision')"
   ]
  },
  {
   "cell_type": "code",
   "execution_count": 51,
   "metadata": {},
   "outputs": [],
   "source": [
    "from sklearn.metrics import confusion_matrix, ConfusionMatrixDisplay"
   ]
  },
  {
   "cell_type": "code",
   "execution_count": null,
   "metadata": {},
   "outputs": [],
   "source": [
    "test_predictions = model.predict(test_images)\n",
    "print(test_predictions)\n",
    "\n",
    "test_predicted_labels = np.argmax(test_predictions, axis = 1)\n",
    "print(test_predicted_labels)\n",
    "\n",
    "test_true_labels = np.argmax(test_labels, axis = 1)\n",
    "print(test_true_labels)"
   ]
  },
  {
   "cell_type": "code",
   "execution_count": null,
   "metadata": {},
   "outputs": [],
   "source": [
    "cm = confusion_matrix(test_true_labels, test_predicted_labels)\n",
    "cmd = ConfusionMatrixDisplay(confusion_matrix = cm)\n",
    "\n",
    "cmd.plot(include_values = True, \n",
    "         cmap = 'viridis', \n",
    "         ax = None, \n",
    "         xticks_rotation = 'horizontal')\n",
    "plt.show()"
   ]
  }
 ],
 "metadata": {
  "kernelspec": {
   "display_name": "new_env",
   "language": "python",
   "name": "python3"
  },
  "language_info": {
   "codemirror_mode": {
    "name": "ipython",
    "version": 3
   },
   "file_extension": ".py",
   "mimetype": "text/x-python",
   "name": "python",
   "nbconvert_exporter": "python",
   "pygments_lexer": "ipython3",
   "version": "3.12.4"
  }
 },
 "nbformat": 4,
 "nbformat_minor": 2
}
