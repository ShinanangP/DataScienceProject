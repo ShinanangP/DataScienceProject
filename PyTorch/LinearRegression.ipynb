{
 "cells": [
  {
   "cell_type": "markdown",
   "metadata": {},
   "source": [
    "## Import libraries"
   ]
  },
  {
   "cell_type": "code",
   "execution_count": 1,
   "metadata": {},
   "outputs": [],
   "source": [
    "import os\n",
    "os.environ[\"OMP_NUM_THREADS\"] = \"1\"\n",
    "\n",
    "import numpy as np\n",
    "import matplotlib.pyplot as plt\n",
    "# import seaborn as sns"
   ]
  },
  {
   "cell_type": "code",
   "execution_count": 2,
   "metadata": {},
   "outputs": [
    {
     "data": {
      "image/png": "[encoded data removed]",
      "text/plain": [
       "<Figure size 300x300 with 1 Axes>"
      ]
     },
     "metadata": {},
     "output_type": "display_data"
    }
   ],
   "source": [
    "plt.figure(figsize = (3, 3))\n",
    "plt.scatter([3, 4, 5, 6, 7, 8, 9], \n",
    "            [7.5, 7.0, 6.5, 6.0, 5.5, 5.0, 4.5]);"
   ]
  },
  {
   "cell_type": "code",
   "execution_count": 3,
   "metadata": {},
   "outputs": [
    {
     "name": "stdout",
     "output_type": "stream",
     "text": [
      "PyTorch version: 2.4.1+cpu\n"
     ]
    }
   ],
   "source": [
    "# !pip install torch\n",
    "import torch      \n",
    "# from torch.autograd import Variable # automatic differentiation    \n",
    "import torch.nn as nn # module provides various classes and functions for building and training neural networks\n",
    "torch.set_num_threads(1)\n",
    "\n",
    "print(\"PyTorch version:\", torch.__version__)"
   ]
  },
  {
   "cell_type": "code",
   "execution_count": null,
   "metadata": {},
   "outputs": [],
   "source": [
    "import warnings\n",
    "warnings.filterwarnings(\"ignore\")"
   ]
  },
  {
   "cell_type": "code",
   "execution_count": 4,
   "metadata": {},
   "outputs": [
    {
     "name": "stdout",
     "output_type": "stream",
     "text": [
      "tensor([1., 2., 3.], requires_grad=True)\n",
      "tensor([1., 4., 9.], grad_fn=<PowBackward0>)\n",
      "tensor([2., 4., 6.])\n"
     ]
    }
   ],
   "source": [
    "# Variable is Deprecated\n",
    "x = torch.tensor([1.0, 2.0, 3.0], requires_grad = True)  # Directly use tensors with autograd enabled\n",
    "print(x)\n",
    "\n",
    "y = x ** 2  # Some operation\n",
    "print(y)\n",
    "\n",
    "y.sum().backward()  # Perform backpropagation to compute gradients\n",
    "print(x.grad)  # Gradients are stored in x.grad"
   ]
  },
  {
   "cell_type": "markdown",
   "metadata": {},
   "source": [
    "## Create linear regression class"
   ]
  },
  {
   "cell_type": "code",
   "execution_count": 6,
   "metadata": {},
   "outputs": [
    {
     "data": {
      "text/plain": [
       "torch.nn.modules.module.Module"
      ]
     },
     "execution_count": 6,
     "metadata": {},
     "output_type": "execute_result"
    }
   ],
   "source": [
    "nn.Module"
   ]
  },
  {
   "cell_type": "code",
   "execution_count": 5,
   "metadata": {},
   "outputs": [],
   "source": [
    "class LinearRegression(nn.Module):\n",
    "\n",
    "    def __init__(self, input_size, output_size):\n",
    "\n",
    "        # super function. It inherits from nn.Module and we can access everything in nn.Module\n",
    "        super(LinearRegression, self).__init__()\n",
    "\n",
    "        # Linear function.\n",
    "        self.linear = nn.Linear(input_size, output_size)\n",
    "\n",
    "    def forward(self, x):\n",
    "        return self.linear(x)"
   ]
  },
  {
   "cell_type": "markdown",
   "metadata": {},
   "source": [
    "## Define model"
   ]
  },
  {
   "cell_type": "code",
   "execution_count": 6,
   "metadata": {},
   "outputs": [
    {
     "name": "stdout",
     "output_type": "stream",
     "text": [
      "LinearRegression(\n",
      "  (linear): Linear(in_features=1, out_features=1, bias=True)\n",
      ")\n",
      "MSELoss()\n",
      "SGD (\n",
      "Parameter Group 0\n",
      "    dampening: 0\n",
      "    differentiable: False\n",
      "    foreach: None\n",
      "    fused: None\n",
      "    lr: 0.02\n",
      "    maximize: False\n",
      "    momentum: 0\n",
      "    nesterov: False\n",
      "    weight_decay: 0\n",
      ")\n"
     ]
    }
   ],
   "source": [
    "# define model\n",
    "input_dim = 1\n",
    "output_dim = 1\n",
    "model = LinearRegression(input_dim, output_dim) # input and output size are 1\n",
    "print(model)\n",
    "\n",
    "# MSE\n",
    "mse = nn.MSELoss()\n",
    "print(mse)\n",
    "\n",
    "# Optimization (find parameters that minimize error)\n",
    "learning_rate = 0.02   # how fast we reach best parameters\n",
    "optimizer = torch.optim.SGD(model.parameters(), lr = learning_rate)\n",
    "print(optimizer)"
   ]
  },
  {
   "cell_type": "markdown",
   "metadata": {},
   "source": [
    "## Create data"
   ]
  },
  {
   "cell_type": "code",
   "execution_count": 7,
   "metadata": {},
   "outputs": [
    {
     "name": "stdout",
     "output_type": "stream",
     "text": [
      "tensor([[3.],\n",
      "        [4.],\n",
      "        [5.],\n",
      "        [6.],\n",
      "        [7.],\n",
      "        [8.],\n",
      "        [9.]], requires_grad=True)\n"
     ]
    }
   ],
   "source": [
    "car_prices_array = [num for num in range(3, 10)]\n",
    "car_price_np = np.array(car_prices_array, dtype = np.float32)\n",
    "car_price_np = car_price_np.reshape(-1, 1)\n",
    "# car_price_tensor = Variable(torch.from_numpy(car_price_np))\n",
    "car_price_tensor = torch.from_numpy(car_price_np).float()  # Ensure it's of type float (necessary for autograd)\n",
    "car_price_tensor.requires_grad = True\n",
    "print(car_price_tensor)"
   ]
  },
  {
   "cell_type": "code",
   "execution_count": 8,
   "metadata": {},
   "outputs": [
    {
     "name": "stdout",
     "output_type": "stream",
     "text": [
      "tensor([[7.5000],\n",
      "        [7.0000],\n",
      "        [6.5000],\n",
      "        [6.0000],\n",
      "        [5.5000],\n",
      "        [5.0000],\n",
      "        [4.5000]], requires_grad=True)\n"
     ]
    }
   ],
   "source": [
    "# Define number of car sell\n",
    "number_of_car_sell_array = [7.5, 7.0, 6.5, 6.0, 5.5, 5.0, 4.5] # [num*0.1 for num in range(75, 40, -5)]\n",
    "number_of_car_sell_np = np.array(number_of_car_sell_array, dtype = np.float32)\n",
    "number_of_car_sell_np = number_of_car_sell_np.reshape(-1, 1)\n",
    "# number_of_car_sell_tensor = Variable(torch.from_numpy(number_of_car_sell_np))\n",
    "number_of_car_sell_tensor = torch.from_numpy(number_of_car_sell_np).float()\n",
    "number_of_car_sell_tensor.requires_grad = True\n",
    "print(number_of_car_sell_tensor)"
   ]
  },
  {
   "cell_type": "code",
   "execution_count": 10,
   "metadata": {},
   "outputs": [
    {
     "data": {
      "image/png": "[encoded data removed]",
      "text/plain": [
       "<Figure size 300x300 with 1 Axes>"
      ]
     },
     "metadata": {},
     "output_type": "display_data"
    }
   ],
   "source": [
    "# visualize our data\n",
    "plt.figure(figsize = (3, 3))\n",
    "plt.scatter(car_prices_array, number_of_car_sell_array)\n",
    "plt.xlabel(\"Car Price\")\n",
    "plt.ylabel(\"Number of Car Sell\")\n",
    "plt.title(\"Car Price VS Number of Car Sell\")\n",
    "plt.show()"
   ]
  },
  {
   "cell_type": "markdown",
   "metadata": {},
   "source": [
    "## Train model"
   ]
  },
  {
   "cell_type": "code",
   "execution_count": 11,
   "metadata": {},
   "outputs": [
    {
     "name": "stdout",
     "output_type": "stream",
     "text": [
      "epoch 0, loss 104.13494873046875\n",
      "epoch 50, loss 6.395205974578857\n",
      "epoch 100, loss 4.32150936126709\n",
      "epoch 150, loss 2.920225143432617\n",
      "epoch 200, loss 1.973318099975586\n",
      "epoch 250, loss 1.3334543704986572\n",
      "epoch 300, loss 0.9010709524154663\n",
      "epoch 350, loss 0.6088917851448059\n",
      "epoch 400, loss 0.41145405173301697\n",
      "epoch 450, loss 0.2780376076698303\n",
      "epoch 500, loss 0.1878816932439804\n",
      "epoch 550, loss 0.1269596517086029\n",
      "epoch 600, loss 0.08579213917255402\n",
      "epoch 650, loss 0.05797366052865982\n",
      "epoch 700, loss 0.03917519003152847\n",
      "epoch 750, loss 0.02647232636809349\n",
      "epoch 800, loss 0.01788875088095665\n",
      "epoch 850, loss 0.012088225223124027\n",
      "epoch 900, loss 0.008168483152985573\n",
      "epoch 950, loss 0.0055198692716658115\n",
      "epoch 1000, loss 0.0037299487739801407\n"
     ]
    }
   ],
   "source": [
    "# train model\n",
    "loss_list = []\n",
    "iteration_number = 1001\n",
    "\n",
    "for iteration in range(iteration_number):\n",
    "        \n",
    "    # optimization\n",
    "    optimizer.zero_grad() \n",
    "    \n",
    "    # Forward to get output\n",
    "    results = model(car_price_tensor)\n",
    "    \n",
    "    # Calculate Loss\n",
    "    loss = mse(results, number_of_car_sell_tensor)\n",
    "    \n",
    "    # backward propagation\n",
    "    loss.backward()\n",
    "    \n",
    "    # Updating parameters\n",
    "    optimizer.step()\n",
    "    \n",
    "    # store loss\n",
    "    loss_list.append(loss.data)\n",
    "    \n",
    "    # print loss\n",
    "    if(iteration % 50 == 0):\n",
    "        print('epoch {}, loss {}'.format(iteration, loss.data))"
   ]
  },
  {
   "cell_type": "markdown",
   "metadata": {},
   "source": [
    "## Plot graph"
   ]
  },
  {
   "cell_type": "code",
   "execution_count": 12,
   "metadata": {},
   "outputs": [
    {
     "data": {
      "image/png": "[encoded data removed]",
      "text/plain": [
       "<Figure size 640x480 with 1 Axes>"
      ]
     },
     "metadata": {},
     "output_type": "display_data"
    }
   ],
   "source": [
    "plt.plot(range(iteration_number), loss_list)\n",
    "plt.xlabel(\"Number of Iterations\")\n",
    "plt.ylabel(\"Loss\")\n",
    "plt.show()"
   ]
  },
  {
   "cell_type": "code",
   "execution_count": 13,
   "metadata": {},
   "outputs": [
    {
     "data": {
      "image/png": "[encoded data removed]",
      "text/plain": [
       "<Figure size 640x480 with 1 Axes>"
      ]
     },
     "metadata": {},
     "output_type": "display_data"
    }
   ],
   "source": [
    "# predict our car price \n",
    "predicted = model(car_price_tensor).data.numpy()\n",
    "plt.scatter(car_prices_array,number_of_car_sell_array,label = \"original data\",color =\"red\")\n",
    "plt.scatter(car_prices_array,predicted,label = \"predicted data\",color =\"blue\")\n",
    "\n",
    "# predict if car price is 10$, what will be the number of car sell\n",
    "#predicted_10 = model(torch.from_numpy(np.array([10]))).data.numpy()\n",
    "#plt.scatter(10,predicted_10.data,label = \"car price 10$\",color =\"green\")\n",
    "plt.legend()\n",
    "plt.xlabel(\"Car Price $\")\n",
    "plt.ylabel(\"Number of Car Sell\")\n",
    "plt.title(\"Original vs Predicted values\")\n",
    "plt.show()"
   ]
  }
 ],
 "metadata": {
  "kernelspec": {
   "display_name": "new_env",
   "language": "python",
   "name": "python3"
  },
  "language_info": {
   "codemirror_mode": {
    "name": "ipython",
    "version": 3
   },
   "file_extension": ".py",
   "mimetype": "text/x-python",
   "name": "python",
   "nbconvert_exporter": "python",
   "pygments_lexer": "ipython3",
   "version": "3.9.20"
  }
 },
 "nbformat": 4,
 "nbformat_minor": 2
}
